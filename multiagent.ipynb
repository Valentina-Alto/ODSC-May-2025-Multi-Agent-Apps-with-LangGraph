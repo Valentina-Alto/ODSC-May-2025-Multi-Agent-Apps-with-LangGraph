{
 "cells": [
  {
   "cell_type": "markdown",
   "id": "e9fc67a3",
   "metadata": {},
   "source": [
    "# Multi-agent application"
   ]
  },
  {
   "cell_type": "markdown",
   "id": "dd5f63e0",
   "metadata": {},
   "source": [
    "This notebook is an adaptation of the original LangGraph notebook: https://langchain-ai.github.io/langgraph/tutorials/multi_agent/hierarchical_agent_teams/"
   ]
  },
  {
   "cell_type": "code",
   "execution_count": 1,
   "id": "aeb8b64f",
   "metadata": {},
   "outputs": [
    {
     "name": "stdout",
     "output_type": "stream",
     "text": [
      "Requirement already satisfied: langgraph in c:\\users\\vaalt\\appdata\\local\\anaconda3\\lib\\site-packages (0.3.20)\n",
      "Collecting langgraph\n",
      "  Downloading langgraph-0.3.31-py3-none-any.whl.metadata (7.9 kB)\n",
      "Requirement already satisfied: langchain-core<0.4,>=0.1 in c:\\users\\vaalt\\appdata\\local\\anaconda3\\lib\\site-packages (from langgraph) (0.3.54)\n",
      "Requirement already satisfied: langgraph-checkpoint<3.0.0,>=2.0.10 in c:\\users\\vaalt\\appdata\\local\\anaconda3\\lib\\site-packages (from langgraph) (2.0.23)\n",
      "Collecting langgraph-prebuilt<0.2,>=0.1.8 (from langgraph)\n",
      "  Downloading langgraph_prebuilt-0.1.8-py3-none-any.whl.metadata (5.0 kB)\n",
      "Requirement already satisfied: langgraph-sdk<0.2.0,>=0.1.42 in c:\\users\\vaalt\\appdata\\local\\anaconda3\\lib\\site-packages (from langgraph) (0.1.59)\n",
      "Requirement already satisfied: xxhash<4.0.0,>=3.5.0 in c:\\users\\vaalt\\appdata\\local\\anaconda3\\lib\\site-packages (from langgraph) (3.5.0)\n",
      "Requirement already satisfied: langsmith<0.4,>=0.1.125 in c:\\users\\vaalt\\appdata\\local\\anaconda3\\lib\\site-packages (from langchain-core<0.4,>=0.1->langgraph) (0.3.32)\n",
      "Requirement already satisfied: tenacity!=8.4.0,<10.0.0,>=8.1.0 in c:\\users\\vaalt\\appdata\\local\\anaconda3\\lib\\site-packages (from langchain-core<0.4,>=0.1->langgraph) (8.5.0)\n",
      "Requirement already satisfied: jsonpatch<2.0,>=1.33 in c:\\users\\vaalt\\appdata\\local\\anaconda3\\lib\\site-packages (from langchain-core<0.4,>=0.1->langgraph) (1.33)\n",
      "Requirement already satisfied: PyYAML>=5.3 in c:\\users\\vaalt\\appdata\\local\\anaconda3\\lib\\site-packages (from langchain-core<0.4,>=0.1->langgraph) (6.0.1)\n",
      "Requirement already satisfied: packaging<25,>=23.2 in c:\\users\\vaalt\\appdata\\local\\anaconda3\\lib\\site-packages (from langchain-core<0.4,>=0.1->langgraph) (23.2)\n",
      "Requirement already satisfied: typing-extensions>=4.7 in c:\\users\\vaalt\\appdata\\local\\anaconda3\\lib\\site-packages (from langchain-core<0.4,>=0.1->langgraph) (4.12.2)\n",
      "Requirement already satisfied: pydantic<3.0.0,>=2.7.4 in c:\\users\\vaalt\\appdata\\local\\anaconda3\\lib\\site-packages (from langchain-core<0.4,>=0.1->langgraph) (2.10.6)\n",
      "Requirement already satisfied: ormsgpack<2.0.0,>=1.8.0 in c:\\users\\vaalt\\appdata\\local\\anaconda3\\lib\\site-packages (from langgraph-checkpoint<3.0.0,>=2.0.10->langgraph) (1.9.0)\n",
      "Requirement already satisfied: httpx>=0.25.2 in c:\\users\\vaalt\\appdata\\local\\anaconda3\\lib\\site-packages (from langgraph-sdk<0.2.0,>=0.1.42->langgraph) (0.27.2)\n",
      "Requirement already satisfied: orjson>=3.10.1 in c:\\users\\vaalt\\appdata\\local\\anaconda3\\lib\\site-packages (from langgraph-sdk<0.2.0,>=0.1.42->langgraph) (3.10.16)\n",
      "Requirement already satisfied: anyio in c:\\users\\vaalt\\appdata\\local\\anaconda3\\lib\\site-packages (from httpx>=0.25.2->langgraph-sdk<0.2.0,>=0.1.42->langgraph) (4.8.0)\n",
      "Requirement already satisfied: certifi in c:\\users\\vaalt\\appdata\\local\\anaconda3\\lib\\site-packages (from httpx>=0.25.2->langgraph-sdk<0.2.0,>=0.1.42->langgraph) (2024.8.30)\n",
      "Requirement already satisfied: httpcore==1.* in c:\\users\\vaalt\\appdata\\local\\anaconda3\\lib\\site-packages (from httpx>=0.25.2->langgraph-sdk<0.2.0,>=0.1.42->langgraph) (1.0.7)\n",
      "Requirement already satisfied: idna in c:\\users\\vaalt\\appdata\\local\\anaconda3\\lib\\site-packages (from httpx>=0.25.2->langgraph-sdk<0.2.0,>=0.1.42->langgraph) (3.7)\n",
      "Requirement already satisfied: sniffio in c:\\users\\vaalt\\appdata\\local\\anaconda3\\lib\\site-packages (from httpx>=0.25.2->langgraph-sdk<0.2.0,>=0.1.42->langgraph) (1.3.0)\n",
      "Requirement already satisfied: h11<0.15,>=0.13 in c:\\users\\vaalt\\appdata\\local\\anaconda3\\lib\\site-packages (from httpcore==1.*->httpx>=0.25.2->langgraph-sdk<0.2.0,>=0.1.42->langgraph) (0.14.0)\n",
      "Requirement already satisfied: jsonpointer>=1.9 in c:\\users\\vaalt\\appdata\\local\\anaconda3\\lib\\site-packages (from jsonpatch<2.0,>=1.33->langchain-core<0.4,>=0.1->langgraph) (2.1)\n",
      "Requirement already satisfied: requests<3,>=2 in c:\\users\\vaalt\\appdata\\local\\anaconda3\\lib\\site-packages (from langsmith<0.4,>=0.1.125->langchain-core<0.4,>=0.1->langgraph) (2.32.3)\n",
      "Requirement already satisfied: requests-toolbelt<2.0.0,>=1.0.0 in c:\\users\\vaalt\\appdata\\local\\anaconda3\\lib\\site-packages (from langsmith<0.4,>=0.1.125->langchain-core<0.4,>=0.1->langgraph) (1.0.0)\n",
      "Requirement already satisfied: zstandard<0.24.0,>=0.23.0 in c:\\users\\vaalt\\appdata\\local\\anaconda3\\lib\\site-packages (from langsmith<0.4,>=0.1.125->langchain-core<0.4,>=0.1->langgraph) (0.23.0)\n",
      "Requirement already satisfied: annotated-types>=0.6.0 in c:\\users\\vaalt\\appdata\\local\\anaconda3\\lib\\site-packages (from pydantic<3.0.0,>=2.7.4->langchain-core<0.4,>=0.1->langgraph) (0.6.0)\n",
      "Requirement already satisfied: pydantic-core==2.27.2 in c:\\users\\vaalt\\appdata\\local\\anaconda3\\lib\\site-packages (from pydantic<3.0.0,>=2.7.4->langchain-core<0.4,>=0.1->langgraph) (2.27.2)\n",
      "Requirement already satisfied: charset-normalizer<4,>=2 in c:\\users\\vaalt\\appdata\\local\\anaconda3\\lib\\site-packages (from requests<3,>=2->langsmith<0.4,>=0.1.125->langchain-core<0.4,>=0.1->langgraph) (3.4.1)\n",
      "Requirement already satisfied: urllib3<3,>=1.21.1 in c:\\users\\vaalt\\appdata\\local\\anaconda3\\lib\\site-packages (from requests<3,>=2->langsmith<0.4,>=0.1.125->langchain-core<0.4,>=0.1->langgraph) (2.3.0)\n",
      "Downloading langgraph-0.3.31-py3-none-any.whl (145 kB)\n",
      "   ---------------------------------------- 0.0/145.2 kB ? eta -:--:--\n",
      "   -- ------------------------------------- 10.2/145.2 kB ? eta -:--:--\n",
      "   -------- ------------------------------ 30.7/145.2 kB 435.7 kB/s eta 0:00:01\n",
      "   ---------------------------------------  143.4/145.2 kB 1.4 MB/s eta 0:00:01\n",
      "   ---------------------------------------- 145.2/145.2 kB 1.1 MB/s eta 0:00:00\n",
      "Downloading langgraph_prebuilt-0.1.8-py3-none-any.whl (25 kB)\n",
      "Installing collected packages: langgraph-prebuilt, langgraph\n",
      "  Attempting uninstall: langgraph-prebuilt\n",
      "    Found existing installation: langgraph-prebuilt 0.1.7\n",
      "    Uninstalling langgraph-prebuilt-0.1.7:\n",
      "      Successfully uninstalled langgraph-prebuilt-0.1.7\n",
      "  Attempting uninstall: langgraph\n",
      "    Found existing installation: langgraph 0.3.20\n",
      "    Uninstalling langgraph-0.3.20:\n",
      "      Successfully uninstalled langgraph-0.3.20\n",
      "Successfully installed langgraph-0.3.31 langgraph-prebuilt-0.1.8\n",
      "Note: you may need to restart the kernel to use updated packages.\n"
     ]
    }
   ],
   "source": [
    "%pip install -U langgraph"
   ]
  },
  {
   "cell_type": "code",
   "execution_count": 1,
   "id": "77a47a5e",
   "metadata": {},
   "outputs": [],
   "source": [
    "import os\n",
    "from dotenv import load_dotenv\n",
    "from langchain_openai import AzureOpenAI\n",
    "from langchain_core.messages import HumanMessage\n",
    "from langchain_openai import AzureChatOpenAI\n",
    "import requests\n",
    "from langchain.agents import AgentExecutor, create_openai_tools_agent\n",
    "from langchain_core.prompts import ChatPromptTemplate, MessagesPlaceholder\n",
    "from langchain.tools import BaseTool, StructuredTool, tool\n",
    "\n",
    "env_path = r\"C:\\Users\\vaalt\\OneDrive\\Desktop\\Projects\\Eventi speaker\\ODSC May 2025\\multi-agent-langgraph\"\n",
    "load_dotenv(dotenv_path=env_path, override=True)\n",
    "\n",
    "# Access the environment variables\n",
    "openai_api_version = os.getenv(\"AZURE_OPENAI_API_VERSION\")\n",
    "azure_endpoint = os.getenv(\"AZURE_OPENAI_ENDPOINT\")\n",
    "openai_api_key = os.getenv(\"AZURE_OPENAI_API_KEY\")\n",
    "azure_chat_deployment = os.getenv(\"AZURE_OPENAI_CHAT_DEPLOYMENT_NAME\")\n",
    "tavily_api_key = os.getenv(\"TAVILY_API_KEY\")\n",
    "alphavantage_api_key = os.getenv(\"ALPHAVANTAGE_API_KEY\")\n"
   ]
  },
  {
   "cell_type": "code",
   "execution_count": 2,
   "id": "e9f0e1b6",
   "metadata": {},
   "outputs": [
    {
     "name": "stdout",
     "output_type": "stream",
     "text": [
      "content=\"J'adore programmer.\" additional_kwargs={'refusal': None} response_metadata={'token_usage': {'completion_tokens': 5, 'prompt_tokens': 19, 'total_tokens': 24, 'completion_tokens_details': {'accepted_prediction_tokens': 0, 'audio_tokens': 0, 'reasoning_tokens': 0, 'rejected_prediction_tokens': 0}, 'prompt_tokens_details': {'audio_tokens': 0, 'cached_tokens': 0}}, 'model_name': 'gpt-4o-2024-11-20', 'system_fingerprint': 'fp_ee1d74bde0', 'id': 'chatcmpl-BSRQGG6e93m00cIai8pENEYRusZmi', 'prompt_filter_results': [{'prompt_index': 0, 'content_filter_results': {'hate': {'filtered': False, 'severity': 'safe'}, 'jailbreak': {'filtered': False, 'detected': False}, 'self_harm': {'filtered': False, 'severity': 'safe'}, 'sexual': {'filtered': False, 'severity': 'safe'}, 'violence': {'filtered': False, 'severity': 'safe'}}}], 'finish_reason': 'stop', 'logprobs': None, 'content_filter_results': {'hate': {'filtered': False, 'severity': 'safe'}, 'protected_material_code': {'filtered': False, 'detected': False}, 'protected_material_text': {'filtered': False, 'detected': False}, 'self_harm': {'filtered': False, 'severity': 'safe'}, 'sexual': {'filtered': False, 'severity': 'safe'}, 'violence': {'filtered': False, 'severity': 'safe'}}} id='run-dbc2904c-4d2d-44fc-ac8b-ec9fc4ecd1df-0' usage_metadata={'input_tokens': 19, 'output_tokens': 5, 'total_tokens': 24, 'input_token_details': {'audio': 0, 'cache_read': 0}, 'output_token_details': {'audio': 0, 'reasoning': 0}}\n"
     ]
    }
   ],
   "source": [
    "# Initialize the Azure OpenAI model\n",
    "llm = AzureChatOpenAI(\n",
    "    openai_api_version=openai_api_version,\n",
    "    azure_deployment=azure_chat_deployment,\n",
    ")\n",
    "\n",
    "# Create a human message and invoke the model\n",
    "message = HumanMessage(\n",
    "    content=\"Translate this sentence from English to French. I love programming.\"\n",
    ")\n",
    "response = llm.invoke([message])\n",
    "\n",
    "# Print the response\n",
    "print(response)"
   ]
  },
  {
   "cell_type": "markdown",
   "id": "718ead41",
   "metadata": {},
   "source": [
    "## Research Agent"
   ]
  },
  {
   "cell_type": "code",
   "execution_count": 3,
   "id": "d8202385",
   "metadata": {},
   "outputs": [
    {
     "name": "stdout",
     "output_type": "stream",
     "text": [
      "✅ Portfolio JSON saved to 'sample_portfolio.json'\n"
     ]
    }
   ],
   "source": [
    "import json\n",
    "import random\n",
    "from datetime import datetime\n",
    "\n",
    "# Sample list of stock symbols and sectors\n",
    "assets = [\n",
    "    {\"symbol\": \"AAPL\", \"sector\": \"Technology\"},\n",
    "    {\"symbol\": \"GOOGL\", \"sector\": \"Technology\"},\n",
    "    {\"symbol\": \"MSFT\", \"sector\": \"Technology\"},\n",
    "    {\"symbol\": \"AMZN\", \"sector\": \"Consumer Discretionary\"},\n",
    "    {\"symbol\": \"TSLA\", \"sector\": \"Consumer Discretionary\"},\n",
    "    {\"symbol\": \"JNJ\", \"sector\": \"Healthcare\"},\n",
    "    {\"symbol\": \"NVDA\", \"sector\": \"Technology\"},\n",
    "    {\"symbol\": \"XOM\", \"sector\": \"Energy\"},\n",
    "    {\"symbol\": \"META\", \"sector\": \"Communication Services\"},\n",
    "    {\"symbol\": \"V\", \"sector\": \"Financials\"},\n",
    "    {\"symbol\": \"PG\", \"sector\": \"Consumer Staples\"},\n",
    "    {\"symbol\": \"BABA\", \"sector\": \"Consumer Discretionary\"},\n",
    "    {\"symbol\": \"JPM\", \"sector\": \"Financials\"},\n",
    "    {\"symbol\": \"KO\", \"sector\": \"Consumer Staples\"},\n",
    "    {\"symbol\": \"DIS\", \"sector\": \"Communication Services\"},\n",
    "    {\"symbol\": \"PFE\", \"sector\": \"Healthcare\"},\n",
    "]\n",
    "\n",
    "def generate_portfolio(assets):\n",
    "    portfolio = []\n",
    "    for asset in assets:\n",
    "        quantity = random.randint(5, 100)\n",
    "        purchase_price = round(random.uniform(50, 3000), 2)\n",
    "        total_invested = round(quantity * purchase_price, 2)\n",
    "        purchase_date = datetime.strftime(datetime(2022, random.randint(1,12), random.randint(1,28)), \"%Y-%m-%d\")\n",
    "\n",
    "        portfolio.append({\n",
    "            \"symbol\": asset[\"symbol\"],\n",
    "            \"sector\": asset[\"sector\"],\n",
    "            \"quantity\": quantity,\n",
    "            \"purchase_price\": purchase_price,\n",
    "            \"total_invested\": total_invested,\n",
    "            \"purchase_date\": purchase_date\n",
    "        })\n",
    "    return portfolio\n",
    "\n",
    "# Generate and save portfolio\n",
    "portfolio_data = generate_portfolio(assets)\n",
    "\n",
    "with open(\"sample_portfolio.json\", \"w\") as f:\n",
    "    json.dump(portfolio_data, f, indent=4)\n",
    "\n",
    "print(\"✅ Portfolio JSON saved to 'sample_portfolio.json'\")\n"
   ]
  },
  {
   "cell_type": "markdown",
   "id": "662022a8",
   "metadata": {},
   "source": [
    "### Web tool"
   ]
  },
  {
   "cell_type": "code",
   "execution_count": 3,
   "id": "71bdfde8",
   "metadata": {},
   "outputs": [
    {
     "name": "stderr",
     "output_type": "stream",
     "text": [
      "USER_AGENT environment variable not set, consider setting it to identify your requests.\n"
     ]
    }
   ],
   "source": [
    "from typing import Annotated, List\n",
    "\n",
    "from langchain_community.document_loaders import WebBaseLoader\n",
    "from langchain_community.tools.tavily_search import TavilySearchResults\n",
    "from langchain_core.tools import tool\n",
    "# Load environment variables from .env file\n",
    "load_dotenv()\n",
    "\n",
    "tavily_tool = TavilySearchResults(max_results=5, tavily_api_key=tavily_api_key)\n"
   ]
  },
  {
   "cell_type": "code",
   "execution_count": 4,
   "id": "a74bbe57",
   "metadata": {},
   "outputs": [],
   "source": [
    "from typing import List, Optional, Literal\n",
    "from langchain_core.language_models.chat_models import BaseChatModel\n",
    "\n",
    "from langgraph.graph import StateGraph, MessagesState, START, END\n",
    "from langgraph.types import Command\n",
    "from langchain_core.messages import HumanMessage, trim_messages\n",
    "\n",
    "\n",
    "class State(MessagesState):\n",
    "    next: str\n",
    "\n",
    "\n",
    "def make_supervisor_node(llm: BaseChatModel, members: list[str]) -> str:\n",
    "    options = [\"FINISH\"] + members\n",
    "    system_prompt = (\n",
    "        \"You are a supervisor tasked with managing a conversation between the\"\n",
    "        f\" following workers: {members}. Given the following user request,\"\n",
    "        \" respond with the worker to act next. Each worker will perform a\"\n",
    "        \" task and respond with their results and status. When finished,\"\n",
    "        \" respond with FINISH.\"\n",
    "    )\n",
    "\n",
    "    class Router(TypedDict):\n",
    "        \"\"\"Worker to route to next. If no workers needed, route to FINISH.\"\"\"\n",
    "\n",
    "        next: Literal[*options]\n",
    "\n",
    "    def supervisor_node(state: State) -> Command[Literal[*members, \"__end__\"]]:\n",
    "        \"\"\"An LLM-based router.\"\"\"\n",
    "        messages = [\n",
    "            {\"role\": \"system\", \"content\": system_prompt},\n",
    "        ] + state[\"messages\"]\n",
    "        response = llm.with_structured_output(Router).invoke(messages)\n",
    "        goto = response[\"next\"]\n",
    "        if goto == \"FINISH\":\n",
    "            goto = END\n",
    "\n",
    "        return Command(goto=goto, update={\"next\": goto})\n",
    "\n",
    "    return supervisor_node"
   ]
  },
  {
   "cell_type": "code",
   "execution_count": 16,
   "id": "d26e2d8d",
   "metadata": {},
   "outputs": [],
   "source": [
    "from langchain_core.messages import HumanMessage\n",
    "from langchain_openai import ChatOpenAI\n",
    "from langgraph.prebuilt import create_react_agent\n",
    "from typing_extensions import TypedDict\n",
    "\n",
    "search_agent = create_react_agent(llm, tools=[tavily_tool])\n",
    "\n",
    "\n",
    "def search_node(state: State) -> Command[Literal[\"supervisor\"]]:\n",
    "    result = search_agent.invoke(state)\n",
    "    return Command(\n",
    "        update={\n",
    "            \"messages\": [\n",
    "                HumanMessage(content=result[\"messages\"][-1].content, name=\"search\")\n",
    "            ]\n",
    "        },\n",
    "        # We want our workers to ALWAYS \"report back\" to the supervisor when done\n",
    "        goto=\"supervisor\",\n",
    "    )\n",
    "\n",
    "\n",
    "\n"
   ]
  },
  {
   "cell_type": "markdown",
   "id": "bbca8743",
   "metadata": {},
   "source": [
    "# Portfolio analysis Team"
   ]
  },
  {
   "cell_type": "markdown",
   "id": "3f1eef3b",
   "metadata": {},
   "source": [
    "### Portfolio read tool"
   ]
  },
  {
   "cell_type": "code",
   "execution_count": 7,
   "id": "25b65501",
   "metadata": {},
   "outputs": [],
   "source": [
    "import json\n",
    "\n",
    "@tool\n",
    "def read_sample_portfolio(json_path: str = \"sample_portfolio.json\") -> str:\n",
    "    \"\"\"\n",
    "    Reads the sample_portfolio.json file and returns its content as a string.\n",
    "    Each entry includes the stock symbol, sector, quantity, purchase price, and purchase date.\n",
    "    \"\"\"\n",
    "    if not os.path.exists(json_path):\n",
    "        return f\"File not found: {json_path}\"\n",
    "\n",
    "    with open(json_path, \"r\") as f:\n",
    "        portfolio = json.load(f)\n",
    "\n",
    "    if not isinstance(portfolio, list):\n",
    "        return \"Unexpected portfolio format.\"\n",
    "\n",
    "    response = \"Sample Portfolio:\\n\"\n",
    "    for stock in portfolio:\n",
    "        response += (\n",
    "            f\"- {stock['symbol']} ({stock['sector']}): \"\n",
    "            f\"{stock['quantity']} shares @ ${stock['purchase_price']} \"\n",
    "            f\"(Bought on {stock['purchase_date']})\\n\"\n",
    "        )\n",
    "    return response"
   ]
  },
  {
   "cell_type": "code",
   "execution_count": null,
   "id": "6859fcae",
   "metadata": {},
   "outputs": [],
   "source": [
    "from langchain_core.messages import HumanMessage\n",
    "from langchain_openai import ChatOpenAI\n",
    "from langgraph.prebuilt import create_react_agent\n",
    "from typing_extensions import TypedDict\n",
    "\n",
    "\n",
    "read_portfolio_agent = create_react_agent(llm, tools=[read_sample_portfolio])\n",
    "\n",
    "\n",
    "def read_portfolio_node(state: State) -> Command[Literal[\"supervisor\"]]:\n",
    "    result = read_portfolio_agent.invoke(state)\n",
    "    return Command(\n",
    "        update={\n",
    "            \"messages\": [\n",
    "                HumanMessage(content=result[\"messages\"][-1].content, name=\"read_portfolio\")\n",
    "            ]\n",
    "        },\n",
    "        # We want our workers to ALWAYS \"report back\" to the supervisor when done\n",
    "        goto=\"supervisor\",\n",
    "    )\n",
    "\n",
    "\n"
   ]
  },
  {
   "cell_type": "markdown",
   "id": "8eb688a7",
   "metadata": {},
   "source": [
    "# Report generator Agent"
   ]
  },
  {
   "cell_type": "code",
   "execution_count": 10,
   "id": "209503b3",
   "metadata": {},
   "outputs": [],
   "source": [
    "from pathlib import Path\n",
    "from tempfile import TemporaryDirectory\n",
    "from typing import Dict, Optional\n",
    "from typing_extensions import TypedDict\n",
    "\n",
    "# Define a real directory path\n",
    "REAL_DIRECTORY = Path(r\"C:\\Users\\vaalt\\OneDrive\\Desktop\\Projects\\Eventi speaker\\ODSC May 2025\\multi-agent-langgraph\\output\")\n",
    "\n",
    "#_TEMP_DIRECTORY = TemporaryDirectory()\n",
    "WORKING_DIRECTORY = Path(REAL_DIRECTORY)"
   ]
  },
  {
   "cell_type": "code",
   "execution_count": 11,
   "id": "77dc2b60",
   "metadata": {},
   "outputs": [],
   "source": [
    "@tool\n",
    "def write_document(\n",
    "    content: Annotated[str, \"Text content to be written into the document.\"],\n",
    "    file_name: Annotated[str, \"File path to save the document.\"],\n",
    ") -> Annotated[str, \"Path of the saved document file.\"]:\n",
    "    \"\"\"Create and save a text document.\"\"\"\n",
    "    with (WORKING_DIRECTORY / file_name).open(\"w\") as file:\n",
    "        file.write(content)\n",
    "    return f\"Document saved to {file_name}\"\n",
    "\n"
   ]
  },
  {
   "cell_type": "code",
   "execution_count": 13,
   "id": "13ff3b70",
   "metadata": {},
   "outputs": [],
   "source": [
    "report_prompt = \"\"\"\n",
    "\n",
    "You are an expert report generator. Given the input from other agents, you generate a detailed report on how to optimize the provided portfolio.\n",
    "The report will have the following outline:\n",
    "\n",
    "-------------------------------\n",
    "**Introduction on market landscape**\n",
    "**Portfolio Overview**\n",
    "**Investment Strategy**\n",
    "**Performance Analysis**\n",
    "**Recommendations**\n",
    "**Conclusion**\n",
    "\n",
    "**References**\n",
    "--------------------------------\n",
    "\n",
    "Once generated the report, save it using your write_document tool.\n",
    "\n",
    "\n",
    "\"\"\"\n",
    "\n",
    "doc_writer_agent = create_react_agent(\n",
    "    llm,\n",
    "    tools=[write_document],\n",
    "    prompt=report_prompt,\n",
    ")\n",
    "\n",
    "\n",
    "def doc_writing_node(state: State) -> Command[Literal[\"supervisor\"]]:\n",
    "    result = doc_writer_agent.invoke(state)\n",
    "    return Command(\n",
    "        update={\n",
    "            \"messages\": [\n",
    "                HumanMessage(content=result[\"messages\"][-1].content, name=\"doc_writer\")\n",
    "            ]\n",
    "        },\n",
    "        # We want our workers to ALWAYS \"report back\" to the supervisor when done\n",
    "        goto=\"supervisor\",\n",
    "    )\n",
    "\n",
    "\n"
   ]
  },
  {
   "cell_type": "markdown",
   "id": "2f03583c",
   "metadata": {},
   "source": [
    "# All together"
   ]
  },
  {
   "cell_type": "code",
   "execution_count": 14,
   "id": "e0b1eb31",
   "metadata": {},
   "outputs": [],
   "source": [
    "from langchain_core.messages import BaseMessage\n",
    "\n",
    "supervisor_node = make_supervisor_node(llm, [\"search\",\"read_portfolio\", \"doc_writer\"])\n"
   ]
  },
  {
   "cell_type": "code",
   "execution_count": 17,
   "id": "761b54b0",
   "metadata": {},
   "outputs": [],
   "source": [
    "# Define the graph.\n",
    "builder = StateGraph(State)\n",
    "builder.add_node(\"supervisor\", supervisor_node)\n",
    "builder.add_node(\"read_portfolio\", read_portfolio_node)\n",
    "builder.add_node(\"search\", search_node)\n",
    "builder.add_node(\"doc_writer\", doc_writing_node)\n",
    "\n",
    "builder.add_edge(START, \"supervisor\")\n",
    "super_graph = builder.compile()"
   ]
  },
  {
   "cell_type": "code",
   "execution_count": 19,
   "id": "87d8693e",
   "metadata": {},
   "outputs": [
    {
     "name": "stdout",
     "output_type": "stream",
     "text": [
      "{'supervisor': {'next': 'search'}}\n",
      "---\n",
      "{'search': {'messages': [HumanMessage(content='**Portfolio Improvement Report Based on Market Landscape Q4 2025**\\n\\n---\\n\\n### 1. **Market Landscape Highlights for Q4 2025:**\\nThe market trends observed for Q4 2025 suggest:\\n- **Elevated Interest Rates:** Policy rates in developed markets, particularly in the US, are expected to remain high. This \"higher-for-longer\" rate narrative creates opportunities for varied asset positioning.\\n- **Equity Market Dispersion:** Stock performance varies greatly across sectors, countries, and themes, reflecting significant dispersion. The S&P 500 shows an optimistic price target with selective stock opportunities.\\n- **Global Economy:** Robust growth overall, with a slowdown in China, and easing consumption levels in the US by late 2025.\\n- **Sector Opportunities:** Emerging markets and specific growth sectors (e.g., technology, healthcare) hold selective promise, though country-specific and risk factors should be carefully managed.\\n\\n---\\n\\n### 2. **Strategies for Portfolio Optimization**\\n\\n#### **A. Strategies for High Interest Rate Environments:**\\nInterest rate-sensitive adjustments are critical to portfolio optimization:\\n1. **Bonds:**\\n   - **Short/Medium Duration Bonds:** Reduce exposure to long-dated bonds. Consider short-to-intermediate-term treasury notes as they are less sensitive to rate hikes.\\n   - **Increased Corporate Bond Exposure:** Corporate bonds, especially those with widening spreads, can offer better returns. \\n2. **Value-Oriented Stocks:**\\n   - Favor companies with **strong balance sheets** and lower debt exposure, as they are less impacted by high borrowing costs.\\n   - Focus on sectors like **consumer staples** or **utilities** that perform relatively well in high-rate environments.\\n3. **US Dollar-Focused Investments:**\\n   - Strengthen exposure to USD-denominated assets as the dollar tends to perform well under high-rate regimes.\\n4. **Liquidity Management:**\\n   - Allocate segments of your portfolio to cash or cash equivalents that take advantage of high short-term yields, such as money market funds or certificates of deposit.\\n\\n#### **B. Leveraging Equity Dispersion Opportunities:**\\nThe dispersion of global equities in 2025 offers fertile ground for differentiated strategies:\\n1. **Long/Short Equity Strategies:**\\n   - Employ **market-neutral long/short equity approaches** to exploit mispricing while reducing overall market risk. \\n   - Focus on **winners in emerging markets (China reopening sectors, India tech)** while hedging with underperformers in other regions/sectors.\\n2. **Sector Allocation & Thematic Investing:**\\n   - Invest in high-dispersion sectors like healthcare and technology, emphasizing active stock selection over passive indexed exposure.\\n3. **Quantitative Dispersion Strategies:**\\n   - Consider allocating to quantitative strategies that capitalize on intra-sector or inter-stock volatility. Dispersion trading and identifying risk-premium opportunities can yield above-market alpha.\\n4. **Alternatives:**\\n   - Incorporate **alternative investment vehicles,** including private equity and hedge funds focused on dispersion themes, for more sophisticated risk-adjusted returns.\\n5. **Alpha Generation (Active Management):**\\n   - Actively re-allocate among stocks showing **predictable earnings growth trends.** Consider defensively positioned equity baskets for potential volatility.\\n\\n---\\n\\n### 3. **Recommended Portfolio Allocation:**\\n\\n| Asset Class                     | Allocation (%) | Key Justification                                      |\\n|---------------------------------|----------------|-------------------------------------------------------|\\n| Value-Driven Equities           | 35             | Focus on sectors resilient to high rates (utilities, staples). |\\n| Global Long/Short Equity Funds  | 20             | Capitalize on dispersion and differentiate winners vs. losers. |\\n| Short/Medium Term Bonds         | 25             | Low sensitivity to rate volatility with stable income options. |\\n| Alternatives (Private Equity, Hedge Funds) | 10         | Diversified alpha through specialized strategies aimed at dispersion. |\\n| Cash/Liquidity Management       | 10             | Take advantage of high short-term yield environments. |\\n\\n---\\n\\n### 4. **Tactical Execution in Q4 2025:**\\n1. **Rebalancing:** Frequently rebalance your portfolio to align with market opportunities, especially given regional and sector dispersions.\\n2. **Scenario Planning:** Prepare for scenarios such as further geopolitical volatility (e.g., China slowdown) or rapid shifts in interest rate policy.\\n3. **Expert Guidance:** Consult actively managed funds and professionals specializing in high-interest and dispersion strategies to fine-tune timing and asset selection.\\n\\n---\\n\\n### 5. **Risks and Considerations:**\\n- **Inflation Volatility:** Monitor any unexpected deflation/inflation risks affecting value stocks or fixed-income instruments.\\n- **Emerging Market Exposure:** While promising, increased risks in some EM regions could necessitate careful hedging.\\n- **Continuation of Elevated Interest Rates:** Be prepared to pivot asset allocation if central banks reverse course.\\n\\n---\\n\\nBy tweaking your portfolio in alignment with these strategies, you can position yourself for the unique opportunities and risks that Q4 2025\\'s market environment offers. Proactive adjustments ensure resilience and performance in this evolving landscape.', additional_kwargs={}, response_metadata={}, name='search', id='167f2810-c81c-4353-8952-6e8c67b58e0a')]}}\n",
      "---\n",
      "{'supervisor': {'next': 'read_portfolio'}}\n",
      "---\n",
      "{'read_portfolio': {'messages': [HumanMessage(content='### Portfolio Improvement Report: Alignment with Market Landscape Q4 2025  \\n\\n---\\n\\n#### Portfolio Overview\\nYour existing portfolio demonstrates strong exposure to technology (AAPL, GOOGL, MSFT, NVDA), consumer discretionary (AMZN, TSLA, BABA), and financials (V, JPM). It also has positions in healthcare (JNJ, PFE), energy (XOM), and consumer staples (PG, KO). Communication services (META, DIS) and limited exposure to defensive sectors round out the mix.  \\n\\nGiven the projected market conditions for Q4 2025, such as high interest rates, equity dispersion, and selective sectoral growth, this portfolio would benefit from strategic adjustments to enhance performance and mitigate risks.  \\n\\n---\\n\\n### 1. **Sector-Specific Recommendations**  \\n\\n1. **Technology (Current Weight: ~33%)**  \\n   **Recommendations:**\\n   - Reduce exposure to high-volatility stocks like NVDA and TSLA. While the technology sector has long-term growth potential, high rates could increase discount rates on future earnings.  \\n   - Retain resilient names such as MSFT and AAPL, which should perform well due to strong fundamentals.  \\n   - Reinvest proceeds into short-duration fixed-income assets for capital preservation or value-driven sectors.  \\n\\n2. **Consumer Discretionary (Current Weight: ~21%)**  \\n   **Recommendations:**\\n   - Trim holdings in discretionary names like TSLA and AMZN; both are sensitive to interest rates and potential declines in US consumption growth.  \\n   - Consider increasing exposure to sectors like **consumer staples (PG, KO)**, which tend to perform well in slower economic environments.  \\n\\n3. **Healthcare (Current Weight: ~13%)**  \\n   **Recommendations:**\\n   - Retain holdings in JNJ as its defensive nature can provide stability during market uncertainties.  \\n   - Consider adding more healthcare stocks or reallocating some assets from risky sectors to healthcare, especially in biopharma and equipment manufacturers that benefit from aging populations and increased health spending.  \\n\\n4. **Energy (Current Weight: ~7%)**  \\n   **Recommendations:**\\n   - Energy prices remain volatile; while XOM provides strong cash flow, consider trimming or diversifying into renewable energy-focused companies to hedge against commodity price risks and align with longer-term trends.  \\n\\n5. **Financials (Current Weight: ~12%)**  \\n   **Recommendations:**\\n   - Retain or slightly increase holdings in JPM and V to benefit from higher interest rates boosting financial margins.  \\n\\n6. **Defensive Sectors (Consumer Staples & Communication Services, ~14%)**  \\n   **Recommendations:**\\n   - Increase exposure to consumer staples (e.g., PG, KO) for their ability to weather economic contractions.  \\n   - Reduce exposure to META and DIS due to potential volatility in advertising and media markets in a high-rate and uncertain consumption environment.  \\n\\n---\\n\\n### 2. **Strategic Adjustments: Q4 2025 Focused Allocation**  \\n\\n| **Asset Class or Sector**       | **Current Weight (%)** | **Proposed Weight (%)** | **Rationale**                                           |\\n|--------------------------------|----------------------|------------------------|-------------------------------------------------------|\\n| Technology (AAPL, GOOGL, MSFT, NVDA) | 33                   | 20                     | Reduce high-volatility stocks while keeping resilient names. |\\n| Consumer Discretionary (AMZN, TSLA, BABA) | 21                   | 12                     | Trim exposure to rate-sensitive stocks.               |\\n| Healthcare (JNJ, PFE)          | 13                   | 18                     | Increase allocation to defensive and growth sectors.   |\\n| Energy (XOM)                   | 7                    | 5                      | Reduce weighting to safeguard against sector volatility. |\\n| Financials (V, JPM)            | 12                   | 15                     | Benefit from higher interest rates.                   |\\n| Consumer Staples (PG, KO)      | 7                    | 15                     | Increase allocation to stable, defensive sectors.     |\\n| Communication Services (META, DIS) | 7                    | 5                      | Trim volatile media/advertising-heavy stocks.          |\\n\\n---\\n\\n### 3. **Tactical Recommendations for Q4 2025**\\n\\n1. **Short-Term Fixed Income Investments:**  \\n   Utilize proceeds from reduced technology and consumer discretionary holdings to invest in **short-to-mid-duration Treasury bonds** or **corporate bonds**. Short-duration instruments are less sensitive to rate hikes and generate stable yields.  \\n\\n2. **Introduce Global Long/Short Equity Funds:**  \\n   - Allocate a portion of your capital to actively managed or hedge fund strategies targeting regions/sectors with high dispersion. An emerging market fund capitalizing on winners in India/China could provide diversification.  \\n\\n3. **Increase Cash Holdings:**  \\n   - Allocate 10% of your portfolio to high-yield money market funds or CDs (Certificates of Deposit) to take advantage of high short-term rates while maintaining liquidity.  \\n\\n4. **Sector Rotation into Value Stocks:**  \\n   - Replace trimmed discretionary or technology exposure with **value-focused equities** in utilities, healthcare, and industrials that align with “higher-for-longer” macro themes.  \\n\\n---\\n\\n### 4. **Risk Management**\\n- **Geopolitical Volatility:** Emerging market exposure should be carefully hedged given potential risks from geopolitical tensions and commodity price fluctuations.  \\n- **Inflation and Policy Risk:** Be prepared to pivot to inflation-protected instruments or high-yield opportunities if the central banks’ policies shift.  \\n\\n---\\n\\n### Final Allocation Summary  \\n\\n| **Asset Class**                 | **Proposed Allocation (%)** |  \\n|---------------------------------|-----------------------------|  \\n| Income-Producing Fixed Income   | 25%                         |  \\n| Healthcare (Defensive Growth)   | 18%                         |  \\n| Technology                      | 20%                         |  \\n| Consumer Staples                | 15%                         |  \\n| Value-Oriented Equity (e.g., Financials) | 20%                         |  \\n| Cash or Liquidity Instruments   | 10%                         |  \\n\\n---\\n\\nBy rebalancing your portfolio with strategic sector rotation, prudent risk management, and tactical allocation adjustments, you can position for growth while mitigating potential downside risks in 2025’s challenging environment. Consider reviewing these recommendations quarterly to adapt to evolving market conditions.  ', additional_kwargs={}, response_metadata={}, name='read_portfolio', id='54b9d2d3-c3ab-4c4c-8705-6e722ba3e74c')]}}\n",
      "---\n",
      "{'supervisor': {'next': 'doc_writer'}}\n",
      "---\n",
      "{'doc_writer': {'messages': [HumanMessage(content='The report on optimizing your portfolio for Q4 2025 has been successfully generated and saved. You can find it in the file named **Portfolio_Optimization_Q4_2025.txt**. Let me know if you need further assistance or any modifications!', additional_kwargs={}, response_metadata={}, name='doc_writer', id='8fa9e6a9-fafc-466c-8bbc-19514654c3be')]}}\n",
      "---\n",
      "{'supervisor': {'next': '__end__'}}\n",
      "---\n"
     ]
    }
   ],
   "source": [
    "for s in super_graph.stream(\n",
    "    {\n",
    "        \"messages\": [\n",
    "            (\"user\", \"Generate a well structured report on how to improve my portfolio given the market landscape in Q4 2025.\")\n",
    "        ],\n",
    "    },\n",
    "    {\"recursion_limit\": 150},\n",
    "):\n",
    "    print(s)\n",
    "    print(\"---\")"
   ]
  }
 ],
 "metadata": {
  "kernelspec": {
   "display_name": "base",
   "language": "python",
   "name": "python3"
  },
  "language_info": {
   "codemirror_mode": {
    "name": "ipython",
    "version": 3
   },
   "file_extension": ".py",
   "mimetype": "text/x-python",
   "name": "python",
   "nbconvert_exporter": "python",
   "pygments_lexer": "ipython3",
   "version": "3.12.4"
  }
 },
 "nbformat": 4,
 "nbformat_minor": 5
}
